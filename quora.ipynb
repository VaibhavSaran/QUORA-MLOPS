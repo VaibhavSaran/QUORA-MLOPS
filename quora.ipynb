{
 "cells": [
  {
   "cell_type": "markdown",
   "id": "d81778e6-4df4-4c67-83b6-59ac122f5669",
   "metadata": {},
   "source": [
    "# 1) Importing Requisite Libraries"
   ]
  },
  {
   "cell_type": "code",
   "execution_count": 3,
   "id": "3bc8737b-fbc7-43e7-8e55-b2d4e998c6a8",
   "metadata": {},
   "outputs": [],
   "source": [
    "import pandas as pd"
   ]
  },
  {
   "cell_type": "code",
   "execution_count": 2,
   "id": "d4b5f0ac-babc-4544-bc70-41073a11cca0",
   "metadata": {},
   "outputs": [
    {
     "name": "stdout",
     "output_type": "stream",
     "text": [
      "Collecting pandas\n",
      "  Downloading pandas-2.0.2-cp39-cp39-win_amd64.whl (10.7 MB)\n",
      "                                              0.0/10.7 MB ? eta -:--:--\n",
      "                                              0.0/10.7 MB ? eta -:--:--\n",
      "                                              0.2/10.7 MB 2.0 MB/s eta 0:00:06\n",
      "     --                                       0.8/10.7 MB 6.0 MB/s eta 0:00:02\n",
      "     ----                                     1.1/10.7 MB 6.2 MB/s eta 0:00:02\n",
      "     -----                                    1.5/10.7 MB 7.5 MB/s eta 0:00:02\n",
      "     -------                                  2.0/10.7 MB 7.3 MB/s eta 0:00:02\n",
      "     --------                                 2.4/10.7 MB 8.1 MB/s eta 0:00:02\n",
      "     ----------                               2.9/10.7 MB 8.6 MB/s eta 0:00:01\n",
      "     ------------                             3.3/10.7 MB 8.3 MB/s eta 0:00:01\n",
      "     --------------                           3.9/10.7 MB 8.8 MB/s eta 0:00:01\n",
      "     ----------------                         4.3/10.7 MB 8.9 MB/s eta 0:00:01\n",
      "     -----------------                        4.6/10.7 MB 8.9 MB/s eta 0:00:01\n",
      "     -------------------                      5.2/10.7 MB 9.2 MB/s eta 0:00:01\n",
      "     --------------------                     5.6/10.7 MB 9.0 MB/s eta 0:00:01\n",
      "     -----------------------                  6.2/10.7 MB 9.4 MB/s eta 0:00:01\n",
      "     ------------------------                 6.6/10.7 MB 9.4 MB/s eta 0:00:01\n",
      "     --------------------------               7.1/10.7 MB 9.5 MB/s eta 0:00:01\n",
      "     ----------------------------             7.6/10.7 MB 9.5 MB/s eta 0:00:01\n",
      "     -----------------------------            7.9/10.7 MB 9.3 MB/s eta 0:00:01\n",
      "     ------------------------------           8.2/10.7 MB 9.2 MB/s eta 0:00:01\n",
      "     --------------------------------         8.8/10.7 MB 9.4 MB/s eta 0:00:01\n",
      "     ----------------------------------       9.4/10.7 MB 9.5 MB/s eta 0:00:01\n",
      "     ------------------------------------     9.9/10.7 MB 9.5 MB/s eta 0:00:01\n",
      "     --------------------------------------   10.4/10.7 MB 9.9 MB/s eta 0:00:01\n",
      "     --------------------------------------  10.7/10.7 MB 10.1 MB/s eta 0:00:01\n",
      "     --------------------------------------  10.7/10.7 MB 10.1 MB/s eta 0:00:01\n",
      "     --------------------------------------  10.7/10.7 MB 10.1 MB/s eta 0:00:01\n",
      "     ---------------------------------------- 10.7/10.7 MB 8.6 MB/s eta 0:00:00\n",
      "Requirement already satisfied: python-dateutil>=2.8.2 in d:\\quora-mlops\\qlops\\lib\\site-packages (from pandas) (2.8.2)\n",
      "Collecting pytz>=2020.1 (from pandas)\n",
      "  Using cached pytz-2023.3-py2.py3-none-any.whl (502 kB)\n",
      "Collecting tzdata>=2022.1 (from pandas)\n",
      "  Using cached tzdata-2023.3-py2.py3-none-any.whl (341 kB)\n",
      "Collecting numpy>=1.20.3 (from pandas)\n",
      "  Using cached numpy-1.24.3-cp39-cp39-win_amd64.whl (14.9 MB)\n",
      "Requirement already satisfied: six>=1.5 in d:\\quora-mlops\\qlops\\lib\\site-packages (from python-dateutil>=2.8.2->pandas) (1.16.0)\n",
      "Installing collected packages: pytz, tzdata, numpy, pandas\n",
      "Successfully installed numpy-1.24.3 pandas-2.0.2 pytz-2023.3 tzdata-2023.3\n"
     ]
    }
   ],
   "source": [
    "!pip install pandas"
   ]
  },
  {
   "cell_type": "code",
   "execution_count": null,
   "id": "e7df6c34-e963-4dfb-b3fa-45b4dde45228",
   "metadata": {},
   "outputs": [],
   "source": []
  },
  {
   "cell_type": "code",
   "execution_count": null,
   "id": "a81c213b-be91-46f7-88f6-3d6b5714cf4b",
   "metadata": {},
   "outputs": [],
   "source": []
  },
  {
   "cell_type": "code",
   "execution_count": null,
   "id": "33153d0c-dd19-4911-ac23-c40e85a2f24a",
   "metadata": {},
   "outputs": [],
   "source": []
  },
  {
   "cell_type": "code",
   "execution_count": null,
   "id": "41ba9310-5e75-4553-b2bc-86332642995e",
   "metadata": {},
   "outputs": [],
   "source": []
  },
  {
   "cell_type": "code",
   "execution_count": null,
   "id": "4438bbee-d95a-4286-be06-23c922442a50",
   "metadata": {},
   "outputs": [],
   "source": []
  },
  {
   "cell_type": "code",
   "execution_count": null,
   "id": "a062288a-44f2-4903-878e-3c6ccbd513e1",
   "metadata": {},
   "outputs": [],
   "source": []
  },
  {
   "cell_type": "code",
   "execution_count": null,
   "id": "726f12c3-9eba-4a45-89ea-8c7dfc3075c2",
   "metadata": {},
   "outputs": [],
   "source": []
  },
  {
   "cell_type": "code",
   "execution_count": null,
   "id": "bdd8f98a-217e-40c9-b3e7-a5759aeacf66",
   "metadata": {},
   "outputs": [],
   "source": []
  }
 ],
 "metadata": {
  "kernelspec": {
   "display_name": "qlops",
   "language": "python",
   "name": "qlops"
  },
  "language_info": {
   "codemirror_mode": {
    "name": "ipython",
    "version": 3
   },
   "file_extension": ".py",
   "mimetype": "text/x-python",
   "name": "python",
   "nbconvert_exporter": "python",
   "pygments_lexer": "ipython3",
   "version": "3.9.13"
  }
 },
 "nbformat": 4,
 "nbformat_minor": 5
}
